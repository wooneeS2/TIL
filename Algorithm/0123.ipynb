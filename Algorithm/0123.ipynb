{
 "cells": [
  {
   "cell_type": "code",
   "execution_count": 10,
   "metadata": {},
   "outputs": [
    {
     "name": "stdout",
     "output_type": "stream",
     "text": [
      "4 7 10 20\n",
      "7\n"
     ]
    }
   ],
   "source": [
    "#13866\n",
    "team=list(map(int,input().split()))\n",
    "team.sort()\n",
    "Ateam=0\n",
    "Bteam=0\n",
    "\n",
    "Ateam=team[0]+team[3]\n",
    "Bteam=team[1]+team[2]\n",
    "print(abs(Ateam-Bteam))"
   ]
  },
  {
   "cell_type": "code",
   "execution_count": null,
   "metadata": {},
   "outputs": [],
   "source": []
  }
 ],
 "metadata": {
  "kernelspec": {
   "display_name": "Python 3",
   "language": "python",
   "name": "python3"
  },
  "language_info": {
   "codemirror_mode": {
    "name": "ipython",
    "version": 3
   },
   "file_extension": ".py",
   "mimetype": "text/x-python",
   "name": "python",
   "nbconvert_exporter": "python",
   "pygments_lexer": "ipython3",
   "version": "3.9.0"
  }
 },
 "nbformat": 4,
 "nbformat_minor": 4
}
