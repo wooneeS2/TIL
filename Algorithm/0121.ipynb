{
 "cells": [
  {
   "cell_type": "code",
   "execution_count": 2,
   "metadata": {},
   "outputs": [
    {
     "name": "stdout",
     "output_type": "stream",
     "text": [
      "4 4\n",
      "1\n"
     ]
    }
   ],
   "source": [
    "a,b = list(map(int,input().split()))\n",
    "\n",
    "if(a==b):\n",
    "    print(1)\n",
    "else:\n",
    "    print(0)"
   ]
  },
  {
   "cell_type": "code",
   "execution_count": 5,
   "metadata": {},
   "outputs": [
    {
     "name": "stdout",
     "output_type": "stream",
     "text": [
      "100 80 70 60\n",
      "80 70 80 90\n",
      "320\n"
     ]
    }
   ],
   "source": [
    "mscore=list(map(int,input().split()))\n",
    "sscore=list(map(int,input().split()))\n",
    "S=0\n",
    "M=0\n",
    "for i in range(len(mscore)):\n",
    "    S+=mscore[i]\n",
    "    M+=sscore[i]\n",
    "    \n",
    "if(S>=M):\n",
    "    print(S)\n",
    "elif(S<M):\n",
    "    print(M)\n",
    "\n"
   ]
  }
 ],
 "metadata": {
  "kernelspec": {
   "display_name": "Python 3",
   "language": "python",
   "name": "python3"
  },
  "language_info": {
   "codemirror_mode": {
    "name": "ipython",
    "version": 3
   },
   "file_extension": ".py",
   "mimetype": "text/x-python",
   "name": "python",
   "nbconvert_exporter": "python",
   "pygments_lexer": "ipython3",
   "version": "3.8.5"
  }
 },
 "nbformat": 4,
 "nbformat_minor": 4
}
