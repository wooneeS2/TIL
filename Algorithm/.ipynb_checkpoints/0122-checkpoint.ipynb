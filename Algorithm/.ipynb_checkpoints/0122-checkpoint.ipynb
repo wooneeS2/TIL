{
 "cells": [
  {
   "cell_type": "code",
   "execution_count": 7,
   "metadata": {},
   "outputs": [
    {
     "name": "stdout",
     "output_type": "stream",
     "text": [
      "3\n",
      "1 2 3 5 3\n",
      "3\n",
      "3\n",
      "2\n"
     ]
    }
   ],
   "source": [
    "#10797\n",
    "num = int(input())\n",
    "car=list(map(int,input().split()))\n",
    "count = 0\n",
    "for i in range(len(car)):\n",
    "    if( car[i]==num):\n",
    "        count+=1\n",
    "    \n",
    "print(count)\n",
    "\n"
   ]
  },
  {
   "cell_type": "code",
   "execution_count": 16,
   "metadata": {},
   "outputs": [
    {
     "name": "stdout",
     "output_type": "stream",
     "text": [
      "3\n",
      "100\n",
      "$80.00\n",
      "59\n",
      "$47.20\n",
      "20\n",
      "$16.00\n"
     ]
    }
   ],
   "source": [
    "#10179\n",
    "num=int(input())\n",
    "\n",
    "for i in range(num):\n",
    "    cost = float(input())\n",
    "    discount=cost*0.8\n",
    "    print('$%.2f'%discount)"
   ]
  },
  {
   "cell_type": "code",
   "execution_count": 24,
   "metadata": {},
   "outputs": [
    {
     "name": "stdout",
     "output_type": "stream",
     "text": [
      "2 \n",
      "28\n",
      "After\n"
     ]
    }
   ],
   "source": [
    "#10768\n",
    "month=int(input())\n",
    "day = int(input())\n",
    "\n",
    "if(month>2):\n",
    "    print(\"After\")\n",
    "elif(month<2):\n",
    "    print(\"Before\")\n",
    "elif(month==2 and day==18):\n",
    "    print(\"Special\")\n",
    "elif(month==2 and day<18):\n",
    "    print(\"Before\")\n",
    "elif(month==2 and day>18):\n",
    "    print(\"After\")\n"
   ]
  }
 ],
 "metadata": {
  "kernelspec": {
   "display_name": "Python 3",
   "language": "python",
   "name": "python3"
  },
  "language_info": {
   "codemirror_mode": {
    "name": "ipython",
    "version": 3
   },
   "file_extension": ".py",
   "mimetype": "text/x-python",
   "name": "python",
   "nbconvert_exporter": "python",
   "pygments_lexer": "ipython3",
   "version": "3.8.5"
  }
 },
 "nbformat": 4,
 "nbformat_minor": 4
}
