{
 "cells": [
  {
   "cell_type": "code",
   "execution_count": 7,
   "metadata": {},
   "outputs": [
    {
     "name": "stdout",
     "output_type": "stream",
     "text": [
      "3\n",
      "1 2 3\n",
      "1 3\n"
     ]
    }
   ],
   "source": [
    "#10818번\n",
    "num=int(input())\n",
    "numbers=[num]\n",
    "numbers=list(map(int,input().split()))\n",
    "\n",
    "\n",
    "\n",
    "print(min(numbers),max(numbers))"
   ]
  },
  {
   "cell_type": "code",
   "execution_count": 25,
   "metadata": {},
   "outputs": [
    {
     "name": "stdout",
     "output_type": "stream",
     "text": [
      "7\n",
      "56\n",
      "77\n",
      "77\n",
      "3\n"
     ]
    }
   ],
   "source": [
    "#2562번\n",
    "numbers=[]\n",
    "for i in range(9):\n",
    "    numbers.append(input())\n",
    "\n",
    "\n",
    "print(max(numbers))\n",
    "print(numbers.index(max(numbers))+1)"
   ]
  },
  {
   "cell_type": "code",
   "execution_count": null,
   "metadata": {},
   "outputs": [],
   "source": []
  }
 ],
 "metadata": {
  "kernelspec": {
   "display_name": "Python 3",
   "language": "python",
   "name": "python3"
  },
  "language_info": {
   "codemirror_mode": {
    "name": "ipython",
    "version": 3
   },
   "file_extension": ".py",
   "mimetype": "text/x-python",
   "name": "python",
   "nbconvert_exporter": "python",
   "pygments_lexer": "ipython3",
   "version": "3.9.0"
  }
 },
 "nbformat": 4,
 "nbformat_minor": 4
}
