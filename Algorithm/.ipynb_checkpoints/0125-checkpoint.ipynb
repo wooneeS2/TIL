{
 "cells": [
  {
   "cell_type": "code",
   "execution_count": 5,
   "metadata": {},
   "outputs": [
    {
     "name": "stdout",
     "output_type": "stream",
     "text": [
      "88\n",
      "B\n"
     ]
    }
   ],
   "source": [
    "#9498\n",
    "score=int(input())\n",
    "if (score>=90 and score<=100):\n",
    "    print(\"A\")\n",
    "elif(score>=80 and score<=89):\n",
    "    print(\"B\")\n",
    "elif(score>=70 and score<=79):\n",
    "    print(\"C\")\n",
    "elif(score>=60 and score<=69):\n",
    "    print(\"D\")\n",
    "else : \n",
    "    print(\"F\")"
   ]
  },
  {
   "cell_type": "code",
   "execution_count": null,
   "metadata": {},
   "outputs": [],
   "source": []
  }
 ],
 "metadata": {
  "kernelspec": {
   "display_name": "Python 3",
   "language": "python",
   "name": "python3"
  },
  "language_info": {
   "codemirror_mode": {
    "name": "ipython",
    "version": 3
   },
   "file_extension": ".py",
   "mimetype": "text/x-python",
   "name": "python",
   "nbconvert_exporter": "python",
   "pygments_lexer": "ipython3",
   "version": "3.9.0"
  }
 },
 "nbformat": 4,
 "nbformat_minor": 4
}
