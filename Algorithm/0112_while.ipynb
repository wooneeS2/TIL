{
 "cells": [
  {
   "cell_type": "code",
   "execution_count": null,
   "metadata": {},
   "outputs": [],
   "source": [
    "#10952\n",
    "while True:\n",
    "    a,b=map(int,input().split())\n",
    "    if a==0 and b==0:\n",
    "        break\n",
    "    print(a+b)\n",
    "   \n",
    "  "
   ]
  },
  {
   "cell_type": "code",
   "execution_count": 25,
   "metadata": {},
   "outputs": [
    {
     "name": "stdout",
     "output_type": "stream",
     "text": [
      "1 1\n",
      "2\n",
      "2 3\n",
      "5\n"
     ]
    }
   ],
   "source": [
    "##10951 - 입력이 끝날때까지 a+b\n",
    "\n",
    "while True:\n",
    "    try:\n",
    "        a,b=map(int,input().split())\n",
    "        print(a+b)\n",
    "    except:\n",
    "        break\n",
    "    "
   ]
  },
  {
   "cell_type": "code",
   "execution_count": 38,
   "metadata": {},
   "outputs": [
    {
     "name": "stdout",
     "output_type": "stream",
     "text": [
      "26\n",
      "4\n"
     ]
    }
   ],
   "source": [
    "#1110번\n",
    "\n",
    "num=temp= int(input())\n",
    "count =0 \n",
    "while True : \n",
    "    a = num //10\n",
    "    b = num % 10\n",
    "    sum = a+b\n",
    "    count+=1\n",
    "    num=int(str(num % 10) + str(sum % 10))\n",
    "    if(temp==num):\n",
    "        break\n",
    "print(count)"
   ]
  },
  {
   "cell_type": "code",
   "execution_count": null,
   "metadata": {},
   "outputs": [],
   "source": []
  },
  {
   "cell_type": "code",
   "execution_count": null,
   "metadata": {},
   "outputs": [],
   "source": []
  }
 ],
 "metadata": {
  "kernelspec": {
   "display_name": "Python 3",
   "language": "python",
   "name": "python3"
  },
  "language_info": {
   "codemirror_mode": {
    "name": "ipython",
    "version": 3
   },
   "file_extension": ".py",
   "mimetype": "text/x-python",
   "name": "python",
   "nbconvert_exporter": "python",
   "pygments_lexer": "ipython3",
   "version": "3.9.0"
  }
 },
 "nbformat": 4,
 "nbformat_minor": 4
}
