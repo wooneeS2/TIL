{
 "cells": [
  {
   "cell_type": "code",
   "execution_count": 4,
   "metadata": {},
   "outputs": [
    {
     "name": "stdout",
     "output_type": "stream",
     "text": [
      "5\n",
      "1 1\n",
      "2\n",
      "1 3\n",
      "4\n",
      "4 5\n",
      "9\n",
      "6 7\n",
      "13\n",
      "8 8\n",
      "16\n"
     ]
    }
   ],
   "source": [
    "#10950번\n",
    "count = int(input())\n",
    "for i in range(count) : \n",
    "    a,b= map(int,input().split())\n",
    "    print(a+b)"
   ]
  },
  {
   "cell_type": "code",
   "execution_count": 12,
   "metadata": {},
   "outputs": [
    {
     "name": "stdout",
     "output_type": "stream",
     "text": [
      "2\n"
     ]
    },
    {
     "ename": "ValueError",
     "evalue": "not enough values to unpack (expected 2, got 0)",
     "output_type": "error",
     "traceback": [
      "\u001b[1;31m---------------------------------------------------------------------------\u001b[0m",
      "\u001b[1;31mValueError\u001b[0m                                Traceback (most recent call last)",
      "\u001b[1;32m<ipython-input-12-602be475a287>\u001b[0m in \u001b[0;36m<module>\u001b[1;34m\u001b[0m\n\u001b[0;32m      4\u001b[0m \u001b[1;33m\u001b[0m\u001b[0m\n\u001b[0;32m      5\u001b[0m \u001b[1;32mfor\u001b[0m \u001b[0mi\u001b[0m \u001b[1;32min\u001b[0m \u001b[0mrange\u001b[0m\u001b[1;33m(\u001b[0m\u001b[1;36m0\u001b[0m\u001b[1;33m,\u001b[0m\u001b[0mcount\u001b[0m\u001b[1;33m)\u001b[0m \u001b[1;33m:\u001b[0m\u001b[1;33m\u001b[0m\u001b[1;33m\u001b[0m\u001b[0m\n\u001b[1;32m----> 6\u001b[1;33m     \u001b[0ma\u001b[0m\u001b[1;33m,\u001b[0m \u001b[0mb\u001b[0m\u001b[1;33m=\u001b[0m \u001b[0msys\u001b[0m\u001b[1;33m.\u001b[0m\u001b[0mstdin\u001b[0m\u001b[1;33m.\u001b[0m\u001b[0mreadline\u001b[0m\u001b[1;33m(\u001b[0m\u001b[1;33m)\u001b[0m\u001b[1;33m.\u001b[0m\u001b[0msplit\u001b[0m\u001b[1;33m(\u001b[0m\u001b[1;33m)\u001b[0m\u001b[1;33m\u001b[0m\u001b[1;33m\u001b[0m\u001b[0m\n\u001b[0m\u001b[0;32m      7\u001b[0m     \u001b[0ma\u001b[0m\u001b[1;33m=\u001b[0m \u001b[0mint\u001b[0m\u001b[1;33m(\u001b[0m\u001b[0ma\u001b[0m\u001b[1;33m)\u001b[0m\u001b[1;33m\u001b[0m\u001b[1;33m\u001b[0m\u001b[0m\n\u001b[0;32m      8\u001b[0m     \u001b[0mb\u001b[0m \u001b[1;33m=\u001b[0m \u001b[0mint\u001b[0m\u001b[1;33m(\u001b[0m\u001b[0mb\u001b[0m\u001b[1;33m)\u001b[0m\u001b[1;33m\u001b[0m\u001b[1;33m\u001b[0m\u001b[0m\n",
      "\u001b[1;31mValueError\u001b[0m: not enough values to unpack (expected 2, got 0)"
     ]
    }
   ],
   "source": [
    "#15552번\n",
    "import sys\n",
    "count = int(input())\n",
    "\n",
    "for i in range(0,count) : \n",
    "    a, b= sys.stdin.readline().split()\n",
    "    a= int(a)\n",
    "    b = int(b)\n",
    "    print(a+b)\n",
    "    \n",
    "## 맞았습니다!"
   ]
  },
  {
   "cell_type": "code",
   "execution_count": 20,
   "metadata": {},
   "outputs": [
    {
     "name": "stdout",
     "output_type": "stream",
     "text": [
      "3 \n",
      "1 1\n",
      "Case #1: 2\n",
      "1 1\n",
      "Case #2: 2\n",
      "1 1\n",
      "Case #3: 2\n"
     ]
    }
   ],
   "source": [
    "#11021번\n",
    "count = int(input())\n",
    "\n",
    "for i in range(0,count):\n",
    "    a,b = map(int,input().split())\n",
    "    print(\"Case #%d: %d\"%(i+1,a+b))"
   ]
  },
  {
   "cell_type": "code",
   "execution_count": 21,
   "metadata": {},
   "outputs": [
    {
     "name": "stdout",
     "output_type": "stream",
     "text": [
      "3\n",
      "1 1\n",
      "Case #1: 1 + 1 = 2\n",
      "1 2\n",
      "Case #2: 1 + 2 = 3\n",
      "3 5\n",
      "Case #3: 3 + 5 = 8\n"
     ]
    }
   ],
   "source": [
    "#11022\n",
    "count = int(input())\n",
    "\n",
    "for i in range(count):\n",
    "    a,b=map(int, input().split())\n",
    "    print(\"Case #%d: %d + %d = %d\"%(i+1,a,b,a+b))\n",
    "    "
   ]
  },
  {
   "cell_type": "code",
   "execution_count": 79,
   "metadata": {},
   "outputs": [
    {
     "name": "stdout",
     "output_type": "stream",
     "text": [
      "5\n",
      " \n",
      "     *  \n",
      "    * *  \n",
      "   * * *  \n",
      "  * * * *  \n",
      " * * * * *  \n"
     ]
    }
   ],
   "source": [
    "\n",
    "count = int(input())\n",
    "print(\" \")\n",
    "for i in range(0,count):\n",
    "    for j in range(0,count-i):    \n",
    "        print(\" \", end='')\n",
    "    for k in range(0,count-j):\n",
    "        print(\"*\",end= ' ')\n",
    "    print(\" \")\n",
    "       "
   ]
  },
  {
   "cell_type": "code",
   "execution_count": 83,
   "metadata": {},
   "outputs": [
    {
     "name": "stdout",
     "output_type": "stream",
     "text": [
      "5\n",
      "     *\n",
      "    **\n",
      "   ***\n",
      "  ****\n",
      " *****\n"
     ]
    }
   ],
   "source": [
    "#2439번\n",
    "count = int(input())\n",
    "for i in range(0,count):\n",
    "    i+=1\n",
    "    print(\" \"*(count-i) , \"*\" *i)\n"
   ]
  },
  {
   "cell_type": "code",
   "execution_count": 12,
   "metadata": {},
   "outputs": [
    {
     "name": "stdout",
     "output_type": "stream",
     "text": [
      "5 2\n",
      "1\n",
      "2\n",
      "3\n",
      "4\n",
      "5\n",
      "3 4 5 "
     ]
    }
   ],
   "source": [
    "#10871\n",
    "count, num = map(int, input().split())\n",
    "numList =[]\n",
    "for i in range(count):\n",
    "    numList.append(input())\n",
    "for j in range(count):\n",
    "    if(int(numList[j])<num):\n",
    "        print(numList[j],end=' ')\n",
    "        \n"
   ]
  },
  {
   "cell_type": "code",
   "execution_count": 18,
   "metadata": {},
   "outputs": [
    {
     "name": "stdout",
     "output_type": "stream",
     "text": [
      "5 3\n",
      "1 2 3 4 5\n",
      "1 2 "
     ]
    }
   ],
   "source": [
    "#10871-1\n",
    "count, num = map(int, input().split())\n",
    "\n",
    "numList = list(map(int,input().split()))\n",
    "                   \n",
    "for i in range(count):\n",
    "    if(numList[i]<num):\n",
    "        print(numList[i],end=' ')\n",
    "        \n",
    "        \n",
    "        "
   ]
  },
  {
   "cell_type": "code",
   "execution_count": null,
   "metadata": {},
   "outputs": [],
   "source": []
  }
 ],
 "metadata": {
  "kernelspec": {
   "display_name": "Python 3",
   "language": "python",
   "name": "python3"
  },
  "language_info": {
   "codemirror_mode": {
    "name": "ipython",
    "version": 3
   },
   "file_extension": ".py",
   "mimetype": "text/x-python",
   "name": "python",
   "nbconvert_exporter": "python",
   "pygments_lexer": "ipython3",
   "version": "3.9.0"
  }
 },
 "nbformat": 4,
 "nbformat_minor": 4
}
