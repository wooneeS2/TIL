{
 "cells": [
  {
   "cell_type": "markdown",
   "metadata": {},
   "source": [
    "------bronze 4----------"
   ]
  },
  {
   "cell_type": "code",
   "execution_count": 3,
   "metadata": {},
   "outputs": [
    {
     "name": "stdout",
     "output_type": "stream",
     "text": [
      "1 3\n",
      "0.3333333333333333\n"
     ]
    }
   ],
   "source": [
    "#1008번\n",
    "a,b= map(int,input().split())\n",
    "print(a/b)"
   ]
  },
  {
   "cell_type": "code",
   "execution_count": 6,
   "metadata": {},
   "outputs": [
    {
     "name": "stdout",
     "output_type": "stream",
     "text": [
      "314\n",
      "11001100\n"
     ]
    }
   ],
   "source": [
    "#1212번\n",
    "value = input()\n",
    "\n",
    "value8 = int(value,8) \n",
    "\n",
    "value2=format(value8,'b')\n",
    "print(value2)"
   ]
  },
  {
   "cell_type": "code",
   "execution_count": 29,
   "metadata": {},
   "outputs": [
    {
     "name": "stdout",
     "output_type": "stream",
     "text": [
      "52 9 16\n",
      "25 45\n",
      "<class 'int'>\n"
     ]
    }
   ],
   "source": [
    "#1297\n",
    "dia,cro,col = map(int,input().split())\n",
    "\n",
    "width=((dia**2 / (cro**2+col**2))**0.5)*cro\n",
    "height=((dia**2 / (cro**2+col**2))**0.5)*col\n",
    "\n",
    "\n",
    "width=int(width)\n",
    "height=int(height)\n",
    "print(width, height)\n"
   ]
  },
  {
   "cell_type": "code",
   "execution_count": 55,
   "metadata": {},
   "outputs": [
    {
     "ename": "SyntaxError",
     "evalue": "invalid syntax (<ipython-input-55-0125a32bd655>, line 14)",
     "output_type": "error",
     "traceback": [
      "\u001b[1;36m  File \u001b[1;32m\"<ipython-input-55-0125a32bd655>\"\u001b[1;36m, line \u001b[1;32m14\u001b[0m\n\u001b[1;33m    elif(cost!<price ):\u001b[0m\n\u001b[1;37m             ^\u001b[0m\n\u001b[1;31mSyntaxError\u001b[0m\u001b[1;31m:\u001b[0m invalid syntax\n"
     ]
    }
   ],
   "source": [
    "#1712\n",
    "a,b,c= map(int,input().split())\n",
    "\n",
    "i=0\n",
    "while True:\n",
    "    \n",
    "    cost=(a+b*i)\n",
    "    price=c*i\n",
    "    i+=1\n",
    "\n",
    "    if(cost<price):\n",
    "        print(i-1)\n",
    "        break\n",
    "    elif():\n",
    "        print(-1)\n",
    "        break\n",
    "       "
   ]
  },
  {
   "cell_type": "code",
   "execution_count": 59,
   "metadata": {},
   "outputs": [
    {
     "name": "stdout",
     "output_type": "stream",
     "text": [
      "-2 5\n",
      "7\n"
     ]
    }
   ],
   "source": [
    "#2420\n",
    "a,b =map(int,input().split())\n",
    "print(abs(a-b))"
   ]
  },
  {
   "cell_type": "markdown",
   "metadata": {},
   "source": [
    "------------bronze 3----------"
   ]
  },
  {
   "cell_type": "code",
   "execution_count": 1,
   "metadata": {},
   "outputs": [
    {
     "name": "stdout",
     "output_type": "stream",
     "text": [
      "3 7\n",
      "2187\n",
      "<class 'str'>\n"
     ]
    }
   ],
   "source": [
    "#1009\n",
    "a,b = map(int,input().split())\n",
    "List=[]\n",
    "List=str(a**b)\n",
    "print(List)\n",
    "print(type(List))\n",
    "for i in range(10):\n",
    "    if(List[-1]==i):\n",
    "        print(i)\n",
    "        if(i==0):\n",
    "            print(10)\n"
   ]
  },
  {
   "cell_type": "code",
   "execution_count": null,
   "metadata": {},
   "outputs": [],
   "source": [
    "#1085 사각형 거리 최솟값"
   ]
  },
  {
   "cell_type": "code",
   "execution_count": 33,
   "metadata": {},
   "outputs": [
    {
     "name": "stdout",
     "output_type": "stream",
     "text": [
      "3\n",
      "-50\n",
      "5\n",
      "5\n",
      "-\n"
     ]
    }
   ],
   "source": [
    "#11247\n",
    "num=int(input())\n",
    "List=[]\n",
    "result=0\n",
    "for i in range(num):\n",
    "    List.append(int(input()))\n",
    "    result+=List[i]\n",
    "if (result<0):\n",
    "    print(\"-\")\n",
    "elif(result>0):\n",
    "    print(\"+\")\n",
    "else:\n",
    "    print(\"0\")\n"
   ]
  },
  {
   "cell_type": "code",
   "execution_count": 33,
   "metadata": {},
   "outputs": [
    {
     "name": "stdout",
     "output_type": "stream",
     "text": [
      "120\n",
      "[1, 2, 0]\n",
      "13\n",
      "150\n",
      "[1, 5, 0]\n",
      "13\n",
      "0\n",
      "[0]\n"
     ]
    }
   ],
   "source": [
    "#1267\n",
    "while True:\n",
    "    numList=list(map(int,input()))\n",
    "    \n",
    "    if(numList[0]==0):\n",
    "        break\n",
    "    count =2\n",
    "    count += len(numList)-1\n",
    "    for i in range(len(numList)):\n",
    "        if(numList[i]==0):\n",
    "            count+=4\n",
    "        elif(numList[i]==1):\n",
    "            count+=2\n",
    "        else:\n",
    "            count+=3\n",
    "\n",
    "    print(count) \n"
   ]
  },
  {
   "cell_type": "code",
   "execution_count": 38,
   "metadata": {},
   "outputs": [
    {
     "name": "stdout",
     "output_type": "stream",
     "text": [
      "15\n"
     ]
    }
   ],
   "source": [
    "#1333 부재중전화\n"
   ]
  },
  {
   "cell_type": "code",
   "execution_count": 80,
   "metadata": {},
   "outputs": [
    {
     "name": "stdout",
     "output_type": "stream",
     "text": [
      "4\n",
      "3 1\n",
      "2 3\n",
      "3 1\n",
      "3 2\n",
      "3\n"
     ]
    }
   ],
   "source": [
    "#1547\n",
    "\n",
    "num= int(input())\n",
    "newlist=['1','2','3']\n",
    "\n",
    "try:\n",
    "    for i in range (num):\n",
    "        a,b=map(int,input().split())\n",
    "        a-=1\n",
    "        b-=1\n",
    "        \n",
    "        newlist[b],newlist[a]=newlist[a],newlist[b]\n",
    "       \n",
    "    print((newlist.index('1')+1))\n",
    "except:\n",
    "    print(-1)\n"
   ]
  },
  {
   "cell_type": "code",
   "execution_count": null,
   "metadata": {},
   "outputs": [],
   "source": [
    "#1598 꼬리 무는 숫자 나열"
   ]
  },
  {
   "cell_type": "code",
   "execution_count": null,
   "metadata": {},
   "outputs": [],
   "source": [
    "#1703 생장점"
   ]
  },
  {
   "cell_type": "code",
   "execution_count": null,
   "metadata": {},
   "outputs": [
    {
     "name": "stdout",
     "output_type": "stream",
     "text": [
      "%%%\n",
      "511\n"
     ]
    }
   ],
   "source": [
    "#1864 문어숫자\n",
    "\n",
    "realNum=0\n",
    "while True: \n",
    "    ocNum=list(map(str,input()))\n",
    "    \n",
    "    for i in range(len(ocNum)):\n",
    "        if(ocNum[i]=='-'):\n",
    "            ocNum[i]='0'\n",
    "        elif(ocNum[i]=='\\\\'):\n",
    "            ocNum[i]='1'\n",
    "        elif(ocNum[i]=='('):\n",
    "            ocNum[i]='2'\n",
    "        elif(ocNum[i]=='@'):\n",
    "            ocNum[i]='3'\n",
    "        elif(ocNum[i]=='?'):\n",
    "            ocNum[i]='4'\n",
    "        elif(ocNum[i]=='>'):\n",
    "            ocNum[i]='5'\n",
    "        elif(ocNum[i]=='&'):\n",
    "            ocNum[i]='6'\n",
    "        elif(ocNum[i]=='%'):\n",
    "            ocNum[i]='7'\n",
    "        elif(ocNum[i]=='/'):\n",
    "            ocNum[i]='-1'\n",
    "        elif(ocNum[i]=='#'):\n",
    "            break\n",
    "       \n",
    "    realNum=\"\".join(ocNum)\n",
    "    realNum=int(realNum,8)\n",
    "    result=format(realNum,'d')\n",
    "    print(result)\n",
    "        "
   ]
  },
  {
   "cell_type": "markdown",
   "metadata": {},
   "source": [
    "-----bronze 2----------"
   ]
  },
  {
   "cell_type": "code",
   "execution_count": 36,
   "metadata": {},
   "outputs": [],
   "source": [
    "#1075\n"
   ]
  },
  {
   "cell_type": "code",
   "execution_count": null,
   "metadata": {},
   "outputs": [],
   "source": [
    "#1076"
   ]
  },
  {
   "cell_type": "code",
   "execution_count": null,
   "metadata": {},
   "outputs": [],
   "source": [
    "#1100"
   ]
  }
 ],
 "metadata": {
  "kernelspec": {
   "display_name": "Python 3",
   "language": "python",
   "name": "python3"
  },
  "language_info": {
   "codemirror_mode": {
    "name": "ipython",
    "version": 3
   },
   "file_extension": ".py",
   "mimetype": "text/x-python",
   "name": "python",
   "nbconvert_exporter": "python",
   "pygments_lexer": "ipython3",
   "version": "3.8.5"
  }
 },
 "nbformat": 4,
 "nbformat_minor": 4
}
