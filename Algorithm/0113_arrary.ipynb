{
 "cells": [
  {
   "cell_type": "code",
   "execution_count": 159,
   "metadata": {},
   "outputs": [
    {
     "name": "stdout",
     "output_type": "stream",
     "text": [
      "65\n",
      "456\n",
      "8645\n",
      "2\n",
      "0\n",
      "2\n",
      "1\n",
      "0\n",
      "1\n",
      "1\n",
      "1\n",
      "1\n",
      "0\n"
     ]
    }
   ],
   "source": [
    "#2577\n",
    "a= int(input())\n",
    "b= int (input())\n",
    "c= int(input())\n",
    "\n",
    "result = a*b*c\n",
    "\n",
    "\n",
    "total=list(str(result))\n",
    "\n",
    "for i in range(10):\n",
    "    print(total.count('%d'%i))\n",
    "    \n",
    "\n",
    "\n"
   ]
  },
  {
   "cell_type": "code",
   "execution_count": 160,
   "metadata": {},
   "outputs": [
    {
     "name": "stdout",
     "output_type": "stream",
     "text": [
      "1\n",
      "2\n",
      "3\n",
      "4\n",
      "4\n",
      "5\n",
      "5\n",
      "5\n",
      "6\n",
      "7\n",
      "7\n"
     ]
    }
   ],
   "source": [
    "#3052번\n",
    "numList=[]\n",
    "\n",
    "for i in range(10):\n",
    "    numList.append(int(input()))\n",
    "\n",
    "newList=[]\n",
    "for i in range(len(numList)):\n",
    "    newList.append(str(numList[i]%42))\n",
    "    \n",
    "newList=set(newList)\n",
    "\n",
    "print(len(newList))\n",
    "\n"
   ]
  },
  {
   "cell_type": "code",
   "execution_count": 1,
   "metadata": {},
   "outputs": [
    {
     "name": "stdout",
     "output_type": "stream",
     "text": [
      "3\n",
      "45 50 80\n",
      "72.91666666666667\n"
     ]
    }
   ],
   "source": [
    "#1546\n",
    "num=int(input())\n",
    "\n",
    "score=list(map(int,input().split()))\n",
    "\n",
    "newScore=[]\n",
    "\n",
    "\n",
    "for i in range(len(score)):\n",
    "    newScore.append(score[i]/(max(score))*100)\n",
    "\n",
    "    \n",
    "\n",
    "newAvg= sum(newScore)/len(score)\n",
    "print(newAvg)\n",
    "\n",
    "\n"
   ]
  },
  {
   "cell_type": "code",
   "execution_count": 47,
   "metadata": {},
   "outputs": [
    {
     "name": "stdout",
     "output_type": "stream",
     "text": [
      "1\n",
      "9 100 99 98 97 96 95 94 93 91\n",
      "5\n",
      "55.556%\n"
     ]
    }
   ],
   "source": [
    "#4344 \n",
    "\n",
    "count=0\n",
    "num= int(input())\n",
    "\n",
    "\n",
    "for i in range(num):\n",
    "    scores=list(map(int,input().split()))\n",
    "    N=scores[0]\n",
    "    del scores[0]\n",
    "    try:\n",
    "        avg=sum(scores)/N\n",
    "\n",
    "\n",
    "        for(i)in range(len(scores)):\n",
    "            if(scores[i]>avg):\n",
    "                count+=1\n",
    "\n",
    "       \n",
    "        print(\"%.3f%%\"%(count/len(scores)*100))\n",
    "        count=0\n",
    "    except:\n",
    "        print(\"\")\n"
   ]
  },
  {
   "cell_type": "code",
   "execution_count": 63,
   "metadata": {},
   "outputs": [
    {
     "name": "stdout",
     "output_type": "stream",
     "text": [
      "3\n",
      "OOXXOXXOOO\n",
      "10\n",
      "OOXXOOXXOO\n",
      "9\n",
      "OOOOOOOOOO\n",
      "55\n"
     ]
    }
   ],
   "source": [
    "#8958\n",
    "n=int(input())\n",
    "for i in range(n):\n",
    "    answer = list(map(str,input()))\n",
    "    count=0\n",
    "    result=0\n",
    "    for i in range(len(answer)):\n",
    "        if(answer[i]=='O'):\n",
    "            count+=1\n",
    "\n",
    "            result+=count\n",
    "\n",
    "        else:\n",
    "            count=0\n",
    "\n",
    "    print(result)\n"
   ]
  },
  {
   "cell_type": "code",
   "execution_count": null,
   "metadata": {},
   "outputs": [],
   "source": []
  }
 ],
 "metadata": {
  "kernelspec": {
   "display_name": "Python 3",
   "language": "python",
   "name": "python3"
  },
  "language_info": {
   "codemirror_mode": {
    "name": "ipython",
    "version": 3
   },
   "file_extension": ".py",
   "mimetype": "text/x-python",
   "name": "python",
   "nbconvert_exporter": "python",
   "pygments_lexer": "ipython3",
   "version": "3.8.5"
  }
 },
 "nbformat": 4,
 "nbformat_minor": 4
}
