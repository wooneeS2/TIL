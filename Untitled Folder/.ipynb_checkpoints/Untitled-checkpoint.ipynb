{
 "cells": [
  {
   "cell_type": "code",
   "execution_count": 15,
   "metadata": {},
   "outputs": [
    {
     "name": "stdout",
     "output_type": "stream",
     "text": [
      "number : 472\n",
      "number : 385\n",
      "2360\n",
      "3776\n",
      "1416\n",
      "181720\n"
     ]
    }
   ],
   "source": [
    "a  = int(input())\n",
    "b  = int(input())\n",
    "\n",
    "###a=472\n",
    "###b=385\n",
    "\n",
    "\n",
    "result1= a*(b%10)\n",
    "print(result1)\n",
    "\n",
    "result2=a*((b%100)//10)\n",
    "print(result2)\n",
    "\n",
    "result3=a*(b//100)\n",
    "print(result3)\n",
    "\n",
    "print( result1+(result2*10)+(result3*100))\n"
   ]
  },
  {
   "cell_type": "code",
   "execution_count": 21,
   "metadata": {},
   "outputs": [
    {
     "name": "stdout",
     "output_type": "stream",
     "text": [
      "8\n",
      "1\n",
      ">\n"
     ]
    }
   ],
   "source": [
    "a  = int(input())\n",
    "b  = int(input())\n",
    "\n",
    "if(a<b):\n",
    "    print('<')\n",
    "elif (a>b):\n",
    "    print('>')\n",
    "else :\n",
    "    print('==')"
   ]
  },
  {
   "cell_type": "code",
   "execution_count": 26,
   "metadata": {},
   "outputs": [
    {
     "name": "stdout",
     "output_type": "stream",
     "text": [
      "1999\n",
      "0\n"
     ]
    }
   ],
   "source": [
    "##2753번\n",
    "year = int(input())\n",
    "\n",
    "if(year%4==0 and year%100!=0 or year%400==0):\n",
    "    print(1)\n",
    "else:\n",
    "    print(0)\n",
    "    "
   ]
  },
  {
   "cell_type": "code",
   "execution_count": 29,
   "metadata": {},
   "outputs": [
    {
     "name": "stdout",
     "output_type": "stream",
     "text": [
      "-5\n",
      "-6\n",
      "4\n"
     ]
    }
   ],
   "source": [
    "##14681번\n",
    "x = int(input())\n",
    "y = int(input())\n",
    "\n",
    "if(x>0 and y>0):\n",
    "    print(1)\n",
    "elif(x<0 and y>0):\n",
    "    print(2)\n",
    "elif(x<0 and y<0):\n",
    "    print(3)\n",
    "else:\n",
    "    print(4)"
   ]
  },
  {
   "cell_type": "code",
   "execution_count": 110,
   "metadata": {},
   "outputs": [
    {
     "name": "stdout",
     "output_type": "stream",
     "text": [
      "28 45\n",
      "4 0\n"
     ]
    }
   ],
   "source": [
    "#2884번\n",
    "h,m = map(int,input().split())\n",
    "\n",
    "t= m -45 + 60\n",
    "\n",
    "if(h==0):\n",
    "    h=24\n",
    "\n",
    "if(h<0):\n",
    "    h=24-h\n",
    "\n",
    "    \n",
    "\n",
    "elif( h>24):\n",
    "    h=-(24-h)\n",
    "\n",
    "    \n",
    "elif(t<60):\n",
    "    h=h-1\n",
    "    nt=t\n",
    "    \n",
    "elif(t<0):\n",
    "    h= h-1\n",
    "    nt=60+t\n",
    "\n",
    "elif(t==60):\n",
    "    nt=0\n",
    "\n",
    "\n",
    "    \n",
    "print(h,nt)\n",
    "\n",
    "\n"
   ]
  },
  {
   "cell_type": "code",
   "execution_count": null,
   "metadata": {},
   "outputs": [],
   "source": []
  },
  {
   "cell_type": "code",
   "execution_count": null,
   "metadata": {},
   "outputs": [],
   "source": []
  }
 ],
 "metadata": {
  "kernelspec": {
   "display_name": "Python 3",
   "language": "python",
   "name": "python3"
  },
  "language_info": {
   "codemirror_mode": {
    "name": "ipython",
    "version": 3
   },
   "file_extension": ".py",
   "mimetype": "text/x-python",
   "name": "python",
   "nbconvert_exporter": "python",
   "pygments_lexer": "ipython3",
   "version": "3.9.0"
  }
 },
 "nbformat": 4,
 "nbformat_minor": 4
}
